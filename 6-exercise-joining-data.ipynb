{
 "cells": [
  {
   "cell_type": "markdown",
   "id": "4f77d73d",
   "metadata": {
    "papermill": {
     "duration": 0.021408,
     "end_time": "2022-02-23T16:34:58.754836",
     "exception": false,
     "start_time": "2022-02-23T16:34:58.733428",
     "status": "completed"
    },
    "tags": []
   },
   "source": [
    "**This notebook is an exercise in the [SQL](https://www.kaggle.com/learn/intro-to-sql) course.  You can reference the tutorial at [this link](https://www.kaggle.com/dansbecker/joining-data).**\n",
    "\n",
    "---\n"
   ]
  },
  {
   "cell_type": "markdown",
   "id": "e11de1d1",
   "metadata": {
    "papermill": {
     "duration": 0.019687,
     "end_time": "2022-02-23T16:34:58.795605",
     "exception": false,
     "start_time": "2022-02-23T16:34:58.775918",
     "status": "completed"
    },
    "tags": []
   },
   "source": [
    "# Introduction\n",
    "\n",
    "[Stack Overflow](https://stackoverflow.com/) is a widely beloved question and answer site for technical questions. You'll probably use it yourself as you keep using SQL (or any programming language). \n",
    "\n",
    "Their data is publicly available. What cool things do you think it would be useful for?\n",
    "\n",
    "Here's one idea:\n",
    "You could set up a service that identifies the Stack Overflow users who have demonstrated expertise with a specific technology by answering related questions about it, so someone could hire those experts for in-depth help.\n",
    "\n",
    "In this exercise, you'll write the SQL queries that might serve as the foundation for this type of service.\n",
    "\n",
    "As usual, run the following cell to set up our feedback system before moving on."
   ]
  },
  {
   "cell_type": "code",
   "execution_count": 1,
   "id": "0a4dbc6f",
   "metadata": {
    "execution": {
     "iopub.execute_input": "2022-02-23T16:34:58.844848Z",
     "iopub.status.busy": "2022-02-23T16:34:58.844280Z",
     "iopub.status.idle": "2022-02-23T16:35:16.654377Z",
     "shell.execute_reply": "2022-02-23T16:35:16.653626Z",
     "shell.execute_reply.started": "2022-02-23T15:27:55.220933Z"
    },
    "papermill": {
     "duration": 17.838767,
     "end_time": "2022-02-23T16:35:16.654559",
     "exception": false,
     "start_time": "2022-02-23T16:34:58.815792",
     "status": "completed"
    },
    "tags": []
   },
   "outputs": [
    {
     "name": "stdout",
     "output_type": "stream",
     "text": [
      "Using Kaggle's public dataset BigQuery integration.\n"
     ]
    },
    {
     "name": "stderr",
     "output_type": "stream",
     "text": [
      "/opt/conda/lib/python3.7/site-packages/google/cloud/bigquery/client.py:440: UserWarning: Cannot create BigQuery Storage client, the dependency google-cloud-bigquery-storage is not installed.\n",
      "  \"Cannot create BigQuery Storage client, the dependency \"\n"
     ]
    },
    {
     "name": "stdout",
     "output_type": "stream",
     "text": [
      "Setup Complete\n"
     ]
    }
   ],
   "source": [
    "# Set up feedback system\n",
    "from learntools.core import binder\n",
    "binder.bind(globals())\n",
    "from learntools.sql.ex6 import *\n",
    "print(\"Setup Complete\")"
   ]
  },
  {
   "cell_type": "markdown",
   "id": "b218aa74",
   "metadata": {
    "papermill": {
     "duration": 0.021663,
     "end_time": "2022-02-23T16:35:16.699727",
     "exception": false,
     "start_time": "2022-02-23T16:35:16.678064",
     "status": "completed"
    },
    "tags": []
   },
   "source": [
    "Run the next cell to fetch the `stackoverflow` dataset."
   ]
  },
  {
   "cell_type": "code",
   "execution_count": 2,
   "id": "9bc640ff",
   "metadata": {
    "execution": {
     "iopub.execute_input": "2022-02-23T16:35:16.751324Z",
     "iopub.status.busy": "2022-02-23T16:35:16.750743Z",
     "iopub.status.idle": "2022-02-23T16:35:17.088005Z",
     "shell.execute_reply": "2022-02-23T16:35:17.088408Z",
     "shell.execute_reply.started": "2022-02-23T15:27:59.477416Z"
    },
    "papermill": {
     "duration": 0.366462,
     "end_time": "2022-02-23T16:35:17.088561",
     "exception": false,
     "start_time": "2022-02-23T16:35:16.722099",
     "status": "completed"
    },
    "tags": []
   },
   "outputs": [
    {
     "name": "stdout",
     "output_type": "stream",
     "text": [
      "Using Kaggle's public dataset BigQuery integration.\n"
     ]
    }
   ],
   "source": [
    "from google.cloud import bigquery\n",
    "\n",
    "# Create a \"Client\" object\n",
    "client = bigquery.Client()\n",
    "\n",
    "# Construct a reference to the \"stackoverflow\" dataset\n",
    "dataset_ref = client.dataset(\"stackoverflow\", project=\"bigquery-public-data\")\n",
    "\n",
    "# API request - fetch the dataset\n",
    "dataset = client.get_dataset(dataset_ref)"
   ]
  },
  {
   "cell_type": "markdown",
   "id": "e47da605",
   "metadata": {
    "papermill": {
     "duration": 0.021637,
     "end_time": "2022-02-23T16:35:17.132786",
     "exception": false,
     "start_time": "2022-02-23T16:35:17.111149",
     "status": "completed"
    },
    "tags": []
   },
   "source": [
    "# Exercises\n",
    "\n",
    "### 1) Explore the data\n",
    "\n",
    "Before writing queries or **JOIN** clauses, you'll want to see what tables are available. \n",
    "\n",
    "*Hint*: Tab completion is helpful whenever you can't remember a command. Type `client.` and then hit the tab key. Don't forget the period before hitting tab."
   ]
  },
  {
   "cell_type": "code",
   "execution_count": 3,
   "id": "cf4cf745",
   "metadata": {
    "execution": {
     "iopub.execute_input": "2022-02-23T16:35:17.183097Z",
     "iopub.status.busy": "2022-02-23T16:35:17.179449Z",
     "iopub.status.idle": "2022-02-23T16:35:17.439818Z",
     "shell.execute_reply": "2022-02-23T16:35:17.440240Z",
     "shell.execute_reply.started": "2022-02-23T15:31:21.180277Z"
    },
    "papermill": {
     "duration": 0.285681,
     "end_time": "2022-02-23T16:35:17.440389",
     "exception": false,
     "start_time": "2022-02-23T16:35:17.154708",
     "status": "completed"
    },
    "tags": []
   },
   "outputs": [
    {
     "name": "stdout",
     "output_type": "stream",
     "text": [
      "['badges', 'comments', 'post_history', 'post_links', 'posts_answers', 'posts_moderator_nomination', 'posts_orphaned_tag_wiki', 'posts_privilege_wiki', 'posts_questions', 'posts_tag_wiki', 'posts_tag_wiki_excerpt', 'posts_wiki_placeholder', 'stackoverflow_posts', 'tags', 'users', 'votes']\n"
     ]
    },
    {
     "data": {
      "application/javascript": [
       "parent.postMessage({\"jupyterEvent\": \"custom.exercise_interaction\", \"data\": {\"outcomeType\": 1, \"valueTowardsCompletion\": 0.16666666666666666, \"interactionType\": 1, \"questionType\": 1, \"questionId\": \"1_ListSOTables\", \"learnToolsVersion\": \"0.3.4\", \"failureMessage\": \"\", \"exceptionClass\": \"\", \"trace\": \"\"}}, \"*\")"
      ],
      "text/plain": [
       "<IPython.core.display.Javascript object>"
      ]
     },
     "metadata": {},
     "output_type": "display_data"
    },
    {
     "data": {
      "text/markdown": [
       "<span style=\"color:#33cc33\">Correct</span>"
      ],
      "text/plain": [
       "Correct"
      ]
     },
     "metadata": {},
     "output_type": "display_data"
    }
   ],
   "source": [
    "# Get a list of available tables \n",
    "tables = list(client.list_tables(dataset)) # Your code here\n",
    "list_of_tables = [table.table_id for table in tables]\n",
    "\n",
    "# Print your answer\n",
    "print(list_of_tables)\n",
    "\n",
    "# Check your answer\n",
    "q_1.check()"
   ]
  },
  {
   "cell_type": "markdown",
   "id": "05d5756b",
   "metadata": {
    "papermill": {
     "duration": 0.024552,
     "end_time": "2022-02-23T16:35:17.489153",
     "exception": false,
     "start_time": "2022-02-23T16:35:17.464601",
     "status": "completed"
    },
    "tags": []
   },
   "source": [
    "For the solution, uncomment the line below."
   ]
  },
  {
   "cell_type": "code",
   "execution_count": 4,
   "id": "b489b458",
   "metadata": {
    "execution": {
     "iopub.execute_input": "2022-02-23T16:35:17.538952Z",
     "iopub.status.busy": "2022-02-23T16:35:17.538481Z",
     "iopub.status.idle": "2022-02-23T16:35:17.542197Z",
     "shell.execute_reply": "2022-02-23T16:35:17.542611Z",
     "shell.execute_reply.started": "2022-02-23T15:31:25.724398Z"
    },
    "papermill": {
     "duration": 0.030273,
     "end_time": "2022-02-23T16:35:17.542764",
     "exception": false,
     "start_time": "2022-02-23T16:35:17.512491",
     "status": "completed"
    },
    "tags": []
   },
   "outputs": [],
   "source": [
    "#q_1.solution()"
   ]
  },
  {
   "cell_type": "markdown",
   "id": "6b8e4895",
   "metadata": {
    "papermill": {
     "duration": 0.023636,
     "end_time": "2022-02-23T16:35:17.590067",
     "exception": false,
     "start_time": "2022-02-23T16:35:17.566431",
     "status": "completed"
    },
    "tags": []
   },
   "source": [
    "### 2) Review relevant tables\n",
    "\n",
    "If you are interested in people who answer questions on a given topic, the `posts_answers` table is a natural place to look. Run the following cell, and look at the output."
   ]
  },
  {
   "cell_type": "code",
   "execution_count": 5,
   "id": "9c800e91",
   "metadata": {
    "execution": {
     "iopub.execute_input": "2022-02-23T16:35:17.639252Z",
     "iopub.status.busy": "2022-02-23T16:35:17.638684Z",
     "iopub.status.idle": "2022-02-23T16:35:18.268452Z",
     "shell.execute_reply": "2022-02-23T16:35:18.267929Z",
     "shell.execute_reply.started": "2022-02-23T15:33:41.290810Z"
    },
    "papermill": {
     "duration": 0.65535,
     "end_time": "2022-02-23T16:35:18.268582",
     "exception": false,
     "start_time": "2022-02-23T16:35:17.613232",
     "status": "completed"
    },
    "tags": []
   },
   "outputs": [
    {
     "name": "stderr",
     "output_type": "stream",
     "text": [
      "/opt/conda/lib/python3.7/site-packages/ipykernel_launcher.py:8: UserWarning: Cannot use bqstorage_client if max_results is set, reverting to fetching data with the tabledata.list endpoint.\n",
      "  \n"
     ]
    },
    {
     "data": {
      "text/html": [
       "<div>\n",
       "<style scoped>\n",
       "    .dataframe tbody tr th:only-of-type {\n",
       "        vertical-align: middle;\n",
       "    }\n",
       "\n",
       "    .dataframe tbody tr th {\n",
       "        vertical-align: top;\n",
       "    }\n",
       "\n",
       "    .dataframe thead th {\n",
       "        text-align: right;\n",
       "    }\n",
       "</style>\n",
       "<table border=\"1\" class=\"dataframe\">\n",
       "  <thead>\n",
       "    <tr style=\"text-align: right;\">\n",
       "      <th></th>\n",
       "      <th>id</th>\n",
       "      <th>title</th>\n",
       "      <th>body</th>\n",
       "      <th>accepted_answer_id</th>\n",
       "      <th>answer_count</th>\n",
       "      <th>comment_count</th>\n",
       "      <th>community_owned_date</th>\n",
       "      <th>creation_date</th>\n",
       "      <th>favorite_count</th>\n",
       "      <th>last_activity_date</th>\n",
       "      <th>last_edit_date</th>\n",
       "      <th>last_editor_display_name</th>\n",
       "      <th>last_editor_user_id</th>\n",
       "      <th>owner_display_name</th>\n",
       "      <th>owner_user_id</th>\n",
       "      <th>parent_id</th>\n",
       "      <th>post_type_id</th>\n",
       "      <th>score</th>\n",
       "      <th>tags</th>\n",
       "      <th>view_count</th>\n",
       "    </tr>\n",
       "  </thead>\n",
       "  <tbody>\n",
       "    <tr>\n",
       "      <th>0</th>\n",
       "      <td>69637232</td>\n",
       "      <td>None</td>\n",
       "      <td>&lt;p&gt;I'd suggest trying pyspark/spark&lt;/p&gt;\\n&lt;pre&gt;...</td>\n",
       "      <td>None</td>\n",
       "      <td>None</td>\n",
       "      <td>1</td>\n",
       "      <td>NaT</td>\n",
       "      <td>2021-10-19 20:23:05.930000+00:00</td>\n",
       "      <td>None</td>\n",
       "      <td>2021-10-19 20:23:05.930000+00:00</td>\n",
       "      <td>NaT</td>\n",
       "      <td>None</td>\n",
       "      <td>NaN</td>\n",
       "      <td>None</td>\n",
       "      <td>13535120</td>\n",
       "      <td>69588989</td>\n",
       "      <td>2</td>\n",
       "      <td>0</td>\n",
       "      <td>None</td>\n",
       "      <td>None</td>\n",
       "    </tr>\n",
       "    <tr>\n",
       "      <th>1</th>\n",
       "      <td>69637234</td>\n",
       "      <td>None</td>\n",
       "      <td>&lt;p&gt;If you want to use higher-level functions y...</td>\n",
       "      <td>None</td>\n",
       "      <td>None</td>\n",
       "      <td>0</td>\n",
       "      <td>NaT</td>\n",
       "      <td>2021-10-19 20:23:26.823000+00:00</td>\n",
       "      <td>None</td>\n",
       "      <td>2021-10-19 20:23:26.823000+00:00</td>\n",
       "      <td>NaT</td>\n",
       "      <td>None</td>\n",
       "      <td>NaN</td>\n",
       "      <td>None</td>\n",
       "      <td>5003756</td>\n",
       "      <td>69637076</td>\n",
       "      <td>2</td>\n",
       "      <td>0</td>\n",
       "      <td>None</td>\n",
       "      <td>None</td>\n",
       "    </tr>\n",
       "    <tr>\n",
       "      <th>2</th>\n",
       "      <td>69637236</td>\n",
       "      <td>None</td>\n",
       "      <td>&lt;p&gt;To the first question&lt;/p&gt;\\n&lt;blockquote&gt;\\n&lt;p...</td>\n",
       "      <td>None</td>\n",
       "      <td>None</td>\n",
       "      <td>0</td>\n",
       "      <td>NaT</td>\n",
       "      <td>2021-10-19 20:23:32.983000+00:00</td>\n",
       "      <td>None</td>\n",
       "      <td>2021-10-19 20:23:32.983000+00:00</td>\n",
       "      <td>NaT</td>\n",
       "      <td>None</td>\n",
       "      <td>NaN</td>\n",
       "      <td>None</td>\n",
       "      <td>16523370</td>\n",
       "      <td>69635990</td>\n",
       "      <td>2</td>\n",
       "      <td>0</td>\n",
       "      <td>None</td>\n",
       "      <td>None</td>\n",
       "    </tr>\n",
       "    <tr>\n",
       "      <th>3</th>\n",
       "      <td>69637246</td>\n",
       "      <td>None</td>\n",
       "      <td>&lt;p&gt;If you want to access a class in another cl...</td>\n",
       "      <td>None</td>\n",
       "      <td>None</td>\n",
       "      <td>0</td>\n",
       "      <td>NaT</td>\n",
       "      <td>2021-10-19 20:24:13.700000+00:00</td>\n",
       "      <td>None</td>\n",
       "      <td>2021-10-19 20:24:13.700000+00:00</td>\n",
       "      <td>NaT</td>\n",
       "      <td>None</td>\n",
       "      <td>NaN</td>\n",
       "      <td>None</td>\n",
       "      <td>16653398</td>\n",
       "      <td>69637090</td>\n",
       "      <td>2</td>\n",
       "      <td>0</td>\n",
       "      <td>None</td>\n",
       "      <td>None</td>\n",
       "    </tr>\n",
       "    <tr>\n",
       "      <th>4</th>\n",
       "      <td>69637250</td>\n",
       "      <td>None</td>\n",
       "      <td>&lt;p&gt;putting content inside an extra &lt;code&gt;&amp;lt;p...</td>\n",
       "      <td>None</td>\n",
       "      <td>None</td>\n",
       "      <td>0</td>\n",
       "      <td>NaT</td>\n",
       "      <td>2021-10-19 20:24:28.950000+00:00</td>\n",
       "      <td>None</td>\n",
       "      <td>2021-10-19 20:24:28.950000+00:00</td>\n",
       "      <td>NaT</td>\n",
       "      <td>None</td>\n",
       "      <td>NaN</td>\n",
       "      <td>None</td>\n",
       "      <td>4016922</td>\n",
       "      <td>69632918</td>\n",
       "      <td>2</td>\n",
       "      <td>0</td>\n",
       "      <td>None</td>\n",
       "      <td>None</td>\n",
       "    </tr>\n",
       "  </tbody>\n",
       "</table>\n",
       "</div>"
      ],
      "text/plain": [
       "         id title                                               body  \\\n",
       "0  69637232  None  <p>I'd suggest trying pyspark/spark</p>\\n<pre>...   \n",
       "1  69637234  None  <p>If you want to use higher-level functions y...   \n",
       "2  69637236  None  <p>To the first question</p>\\n<blockquote>\\n<p...   \n",
       "3  69637246  None  <p>If you want to access a class in another cl...   \n",
       "4  69637250  None  <p>putting content inside an extra <code>&lt;p...   \n",
       "\n",
       "  accepted_answer_id answer_count  comment_count community_owned_date  \\\n",
       "0               None         None              1                  NaT   \n",
       "1               None         None              0                  NaT   \n",
       "2               None         None              0                  NaT   \n",
       "3               None         None              0                  NaT   \n",
       "4               None         None              0                  NaT   \n",
       "\n",
       "                     creation_date favorite_count  \\\n",
       "0 2021-10-19 20:23:05.930000+00:00           None   \n",
       "1 2021-10-19 20:23:26.823000+00:00           None   \n",
       "2 2021-10-19 20:23:32.983000+00:00           None   \n",
       "3 2021-10-19 20:24:13.700000+00:00           None   \n",
       "4 2021-10-19 20:24:28.950000+00:00           None   \n",
       "\n",
       "                last_activity_date last_edit_date last_editor_display_name  \\\n",
       "0 2021-10-19 20:23:05.930000+00:00            NaT                     None   \n",
       "1 2021-10-19 20:23:26.823000+00:00            NaT                     None   \n",
       "2 2021-10-19 20:23:32.983000+00:00            NaT                     None   \n",
       "3 2021-10-19 20:24:13.700000+00:00            NaT                     None   \n",
       "4 2021-10-19 20:24:28.950000+00:00            NaT                     None   \n",
       "\n",
       "   last_editor_user_id owner_display_name  owner_user_id  parent_id  \\\n",
       "0                  NaN               None       13535120   69588989   \n",
       "1                  NaN               None        5003756   69637076   \n",
       "2                  NaN               None       16523370   69635990   \n",
       "3                  NaN               None       16653398   69637090   \n",
       "4                  NaN               None        4016922   69632918   \n",
       "\n",
       "   post_type_id  score  tags view_count  \n",
       "0             2      0  None       None  \n",
       "1             2      0  None       None  \n",
       "2             2      0  None       None  \n",
       "3             2      0  None       None  \n",
       "4             2      0  None       None  "
      ]
     },
     "execution_count": 5,
     "metadata": {},
     "output_type": "execute_result"
    }
   ],
   "source": [
    "# Construct a reference to the \"posts_answers\" table\n",
    "answers_table_ref = dataset_ref.table(\"posts_answers\")\n",
    "\n",
    "# API request - fetch the table\n",
    "answers_table = client.get_table(answers_table_ref)\n",
    "\n",
    "# Preview the first five lines of the \"posts_answers\" table\n",
    "client.list_rows(answers_table, max_results=5).to_dataframe()"
   ]
  },
  {
   "cell_type": "markdown",
   "id": "18c89040",
   "metadata": {
    "papermill": {
     "duration": 0.02399,
     "end_time": "2022-02-23T16:35:18.317260",
     "exception": false,
     "start_time": "2022-02-23T16:35:18.293270",
     "status": "completed"
    },
    "tags": []
   },
   "source": [
    "It isn't clear yet how to find users who answered questions on any given topic. But `posts_answers` has a `parent_id` column. If you are familiar with the Stack Overflow site, you might figure out that the `parent_id` is the question each post is answering.\n",
    "\n",
    "Look at `posts_questions` using the cell below."
   ]
  },
  {
   "cell_type": "code",
   "execution_count": 6,
   "id": "5fe49436",
   "metadata": {
    "execution": {
     "iopub.execute_input": "2022-02-23T16:35:18.374363Z",
     "iopub.status.busy": "2022-02-23T16:35:18.373611Z",
     "iopub.status.idle": "2022-02-23T16:35:19.234390Z",
     "shell.execute_reply": "2022-02-23T16:35:19.234770Z",
     "shell.execute_reply.started": "2022-02-23T15:35:05.976005Z"
    },
    "papermill": {
     "duration": 0.893266,
     "end_time": "2022-02-23T16:35:19.234921",
     "exception": false,
     "start_time": "2022-02-23T16:35:18.341655",
     "status": "completed"
    },
    "tags": []
   },
   "outputs": [
    {
     "name": "stderr",
     "output_type": "stream",
     "text": [
      "/opt/conda/lib/python3.7/site-packages/ipykernel_launcher.py:8: UserWarning: Cannot use bqstorage_client if max_results is set, reverting to fetching data with the tabledata.list endpoint.\n",
      "  \n"
     ]
    },
    {
     "data": {
      "text/html": [
       "<div>\n",
       "<style scoped>\n",
       "    .dataframe tbody tr th:only-of-type {\n",
       "        vertical-align: middle;\n",
       "    }\n",
       "\n",
       "    .dataframe tbody tr th {\n",
       "        vertical-align: top;\n",
       "    }\n",
       "\n",
       "    .dataframe thead th {\n",
       "        text-align: right;\n",
       "    }\n",
       "</style>\n",
       "<table border=\"1\" class=\"dataframe\">\n",
       "  <thead>\n",
       "    <tr style=\"text-align: right;\">\n",
       "      <th></th>\n",
       "      <th>id</th>\n",
       "      <th>title</th>\n",
       "      <th>body</th>\n",
       "      <th>accepted_answer_id</th>\n",
       "      <th>answer_count</th>\n",
       "      <th>comment_count</th>\n",
       "      <th>community_owned_date</th>\n",
       "      <th>creation_date</th>\n",
       "      <th>favorite_count</th>\n",
       "      <th>last_activity_date</th>\n",
       "      <th>last_edit_date</th>\n",
       "      <th>last_editor_display_name</th>\n",
       "      <th>last_editor_user_id</th>\n",
       "      <th>owner_display_name</th>\n",
       "      <th>owner_user_id</th>\n",
       "      <th>parent_id</th>\n",
       "      <th>post_type_id</th>\n",
       "      <th>score</th>\n",
       "      <th>tags</th>\n",
       "      <th>view_count</th>\n",
       "    </tr>\n",
       "  </thead>\n",
       "  <tbody>\n",
       "    <tr>\n",
       "      <th>0</th>\n",
       "      <td>3216259</td>\n",
       "      <td>Function overloading and inheritance</td>\n",
       "      <td>&lt;blockquote&gt;\\n  &lt;p&gt;&lt;strong&gt;Possible Duplicate:...</td>\n",
       "      <td>NaN</td>\n",
       "      <td>0</td>\n",
       "      <td>4</td>\n",
       "      <td>NaT</td>\n",
       "      <td>2010-07-09 20:18:51.660000+00:00</td>\n",
       "      <td>1</td>\n",
       "      <td>2010-07-09 20:49:47.220000+00:00</td>\n",
       "      <td>2017-05-23 12:26:47.287000+00:00</td>\n",
       "      <td>None</td>\n",
       "      <td>-1</td>\n",
       "      <td>None</td>\n",
       "      <td>204623</td>\n",
       "      <td>None</td>\n",
       "      <td>1</td>\n",
       "      <td>0</td>\n",
       "      <td>c++|inheritance|overloading</td>\n",
       "      <td>218</td>\n",
       "    </tr>\n",
       "    <tr>\n",
       "      <th>1</th>\n",
       "      <td>3217039</td>\n",
       "      <td>how to pass a double with [n][n] values into a...</td>\n",
       "      <td>&lt;blockquote&gt;\\n  &lt;p&gt;&lt;strong&gt;Possible Duplicate:...</td>\n",
       "      <td>3217086.0</td>\n",
       "      <td>0</td>\n",
       "      <td>0</td>\n",
       "      <td>NaT</td>\n",
       "      <td>2010-07-09 22:54:42.847000+00:00</td>\n",
       "      <td>0</td>\n",
       "      <td>2010-07-09 23:17:58.993000+00:00</td>\n",
       "      <td>2017-05-23 11:47:37.667000+00:00</td>\n",
       "      <td>None</td>\n",
       "      <td>-1</td>\n",
       "      <td>None</td>\n",
       "      <td>383217</td>\n",
       "      <td>None</td>\n",
       "      <td>1</td>\n",
       "      <td>0</td>\n",
       "      <td>iphone|objective-c</td>\n",
       "      <td>82</td>\n",
       "    </tr>\n",
       "    <tr>\n",
       "      <th>2</th>\n",
       "      <td>3217358</td>\n",
       "      <td>Convert simple code from Perl to PHP (issue)</td>\n",
       "      <td>&lt;blockquote&gt;\\n  &lt;p&gt;&lt;strong&gt;Possible Duplicate:...</td>\n",
       "      <td>NaN</td>\n",
       "      <td>0</td>\n",
       "      <td>0</td>\n",
       "      <td>NaT</td>\n",
       "      <td>2010-07-10 00:50:50.480000+00:00</td>\n",
       "      <td>0</td>\n",
       "      <td>2010-07-11 00:01:51.583000+00:00</td>\n",
       "      <td>2017-05-23 12:18:35.953000+00:00</td>\n",
       "      <td>None</td>\n",
       "      <td>-1</td>\n",
       "      <td>None</td>\n",
       "      <td>388226</td>\n",
       "      <td>None</td>\n",
       "      <td>1</td>\n",
       "      <td>0</td>\n",
       "      <td>php|perl|function|pack</td>\n",
       "      <td>302</td>\n",
       "    </tr>\n",
       "    <tr>\n",
       "      <th>3</th>\n",
       "      <td>3227205</td>\n",
       "      <td>how to send more than three variables by using...</td>\n",
       "      <td>&lt;p&gt;how can i send 3 text box,1 select button v...</td>\n",
       "      <td>NaN</td>\n",
       "      <td>0</td>\n",
       "      <td>0</td>\n",
       "      <td>NaT</td>\n",
       "      <td>2010-07-12 09:24:01.383000+00:00</td>\n",
       "      <td>0</td>\n",
       "      <td>2010-07-12 09:52:52.373000+00:00</td>\n",
       "      <td>2010-07-12 09:25:48.027000+00:00</td>\n",
       "      <td>None</td>\n",
       "      <td>47738</td>\n",
       "      <td>None</td>\n",
       "      <td>386361</td>\n",
       "      <td>None</td>\n",
       "      <td>1</td>\n",
       "      <td>0</td>\n",
       "      <td>html</td>\n",
       "      <td>114</td>\n",
       "    </tr>\n",
       "    <tr>\n",
       "      <th>4</th>\n",
       "      <td>3232809</td>\n",
       "      <td>bitshift equivalent of math.round</td>\n",
       "      <td>&lt;p&gt;(Math.round(var/var1)*var1)&lt;/p&gt;\\n\\n&lt;p&gt;What ...</td>\n",
       "      <td>NaN</td>\n",
       "      <td>0</td>\n",
       "      <td>0</td>\n",
       "      <td>NaT</td>\n",
       "      <td>2010-07-12 22:34:26.247000+00:00</td>\n",
       "      <td>0</td>\n",
       "      <td>2010-07-13 00:00:32.173000+00:00</td>\n",
       "      <td>2010-07-13 00:00:32.173000+00:00</td>\n",
       "      <td>None</td>\n",
       "      <td>354992</td>\n",
       "      <td>None</td>\n",
       "      <td>354992</td>\n",
       "      <td>None</td>\n",
       "      <td>1</td>\n",
       "      <td>0</td>\n",
       "      <td>javascript</td>\n",
       "      <td>191</td>\n",
       "    </tr>\n",
       "  </tbody>\n",
       "</table>\n",
       "</div>"
      ],
      "text/plain": [
       "        id                                              title  \\\n",
       "0  3216259               Function overloading and inheritance   \n",
       "1  3217039  how to pass a double with [n][n] values into a...   \n",
       "2  3217358       Convert simple code from Perl to PHP (issue)   \n",
       "3  3227205  how to send more than three variables by using...   \n",
       "4  3232809                  bitshift equivalent of math.round   \n",
       "\n",
       "                                                body  accepted_answer_id  \\\n",
       "0  <blockquote>\\n  <p><strong>Possible Duplicate:...                 NaN   \n",
       "1  <blockquote>\\n  <p><strong>Possible Duplicate:...           3217086.0   \n",
       "2  <blockquote>\\n  <p><strong>Possible Duplicate:...                 NaN   \n",
       "3  <p>how can i send 3 text box,1 select button v...                 NaN   \n",
       "4  <p>(Math.round(var/var1)*var1)</p>\\n\\n<p>What ...                 NaN   \n",
       "\n",
       "   answer_count  comment_count community_owned_date  \\\n",
       "0             0              4                  NaT   \n",
       "1             0              0                  NaT   \n",
       "2             0              0                  NaT   \n",
       "3             0              0                  NaT   \n",
       "4             0              0                  NaT   \n",
       "\n",
       "                     creation_date  favorite_count  \\\n",
       "0 2010-07-09 20:18:51.660000+00:00               1   \n",
       "1 2010-07-09 22:54:42.847000+00:00               0   \n",
       "2 2010-07-10 00:50:50.480000+00:00               0   \n",
       "3 2010-07-12 09:24:01.383000+00:00               0   \n",
       "4 2010-07-12 22:34:26.247000+00:00               0   \n",
       "\n",
       "                last_activity_date                   last_edit_date  \\\n",
       "0 2010-07-09 20:49:47.220000+00:00 2017-05-23 12:26:47.287000+00:00   \n",
       "1 2010-07-09 23:17:58.993000+00:00 2017-05-23 11:47:37.667000+00:00   \n",
       "2 2010-07-11 00:01:51.583000+00:00 2017-05-23 12:18:35.953000+00:00   \n",
       "3 2010-07-12 09:52:52.373000+00:00 2010-07-12 09:25:48.027000+00:00   \n",
       "4 2010-07-13 00:00:32.173000+00:00 2010-07-13 00:00:32.173000+00:00   \n",
       "\n",
       "  last_editor_display_name  last_editor_user_id owner_display_name  \\\n",
       "0                     None                   -1               None   \n",
       "1                     None                   -1               None   \n",
       "2                     None                   -1               None   \n",
       "3                     None                47738               None   \n",
       "4                     None               354992               None   \n",
       "\n",
       "   owner_user_id parent_id  post_type_id  score                         tags  \\\n",
       "0         204623      None             1      0  c++|inheritance|overloading   \n",
       "1         383217      None             1      0           iphone|objective-c   \n",
       "2         388226      None             1      0       php|perl|function|pack   \n",
       "3         386361      None             1      0                         html   \n",
       "4         354992      None             1      0                   javascript   \n",
       "\n",
       "   view_count  \n",
       "0         218  \n",
       "1          82  \n",
       "2         302  \n",
       "3         114  \n",
       "4         191  "
      ]
     },
     "execution_count": 6,
     "metadata": {},
     "output_type": "execute_result"
    }
   ],
   "source": [
    "# Construct a reference to the \"posts_questions\" table\n",
    "questions_table_ref = dataset_ref.table(\"posts_questions\")\n",
    "\n",
    "# API request - fetch the table\n",
    "questions_table = client.get_table(questions_table_ref)\n",
    "\n",
    "# Preview the first five lines of the \"posts_questions\" table\n",
    "client.list_rows(questions_table, max_results=5).to_dataframe()"
   ]
  },
  {
   "cell_type": "markdown",
   "id": "2ad9ba6b",
   "metadata": {
    "papermill": {
     "duration": 0.024829,
     "end_time": "2022-02-23T16:35:19.285293",
     "exception": false,
     "start_time": "2022-02-23T16:35:19.260464",
     "status": "completed"
    },
    "tags": []
   },
   "source": [
    "Are there any fields that identify what topic or technology each question is about? If so, how could you find the IDs of users who answered questions about a specific topic?\n",
    "\n",
    "Think about it, and then check the solution by running the code in the next cell."
   ]
  },
  {
   "cell_type": "code",
   "execution_count": 7,
   "id": "60a5c8ee",
   "metadata": {
    "execution": {
     "iopub.execute_input": "2022-02-23T16:35:19.340341Z",
     "iopub.status.busy": "2022-02-23T16:35:19.339617Z",
     "iopub.status.idle": "2022-02-23T16:35:19.347448Z",
     "shell.execute_reply": "2022-02-23T16:35:19.347843Z",
     "shell.execute_reply.started": "2022-02-23T15:35:33.591904Z"
    },
    "papermill": {
     "duration": 0.037104,
     "end_time": "2022-02-23T16:35:19.348048",
     "exception": false,
     "start_time": "2022-02-23T16:35:19.310944",
     "status": "completed"
    },
    "tags": []
   },
   "outputs": [
    {
     "data": {
      "application/javascript": [
       "parent.postMessage({\"jupyterEvent\": \"custom.exercise_interaction\", \"data\": {\"interactionType\": 3, \"questionType\": 4, \"questionId\": \"2_HowToFindExperts\", \"learnToolsVersion\": \"0.3.4\", \"valueTowardsCompletion\": 0.0, \"failureMessage\": \"\", \"exceptionClass\": \"\", \"trace\": \"\", \"outcomeType\": 4}}, \"*\")"
      ],
      "text/plain": [
       "<IPython.core.display.Javascript object>"
      ]
     },
     "metadata": {},
     "output_type": "display_data"
    },
    {
     "data": {
      "text/markdown": [
       "<span style=\"color:#33cc99\">Solution:</span> \n",
       "`posts_questions` has a column called `tags` which lists the topics/technologies each question is about.\n",
       "\n",
       "`posts_answers` has a column called `parent_id` which identifies the ID of the question each answer is responding to.\n",
       "`posts_answers` also has an `owner_user_id` column which specifies the ID of the user who answered the question.\n",
       "\n",
       "You can join these two tables to:\n",
       "- determine the `tags` for each answer, and then\n",
       "- select the `owner_user_id` of the answers on the desired tag.\n",
       "\n",
       "This is exactly what you will do over the next few questions.\n"
      ],
      "text/plain": [
       "Solution: \n",
       "`posts_questions` has a column called `tags` which lists the topics/technologies each question is about.\n",
       "\n",
       "`posts_answers` has a column called `parent_id` which identifies the ID of the question each answer is responding to.\n",
       "`posts_answers` also has an `owner_user_id` column which specifies the ID of the user who answered the question.\n",
       "\n",
       "You can join these two tables to:\n",
       "- determine the `tags` for each answer, and then\n",
       "- select the `owner_user_id` of the answers on the desired tag.\n",
       "\n",
       "This is exactly what you will do over the next few questions."
      ]
     },
     "metadata": {},
     "output_type": "display_data"
    }
   ],
   "source": [
    "# Check your answer (Run this code cell to receive credit!)\n",
    "q_2.solution()"
   ]
  },
  {
   "cell_type": "markdown",
   "id": "39b235e2",
   "metadata": {
    "papermill": {
     "duration": 0.025799,
     "end_time": "2022-02-23T16:35:19.400844",
     "exception": false,
     "start_time": "2022-02-23T16:35:19.375045",
     "status": "completed"
    },
    "tags": []
   },
   "source": [
    "### 3) Selecting the right questions\n",
    "\n",
    "A lot of this data is text. \n",
    "\n",
    "We'll explore one last technique in this course which you can apply to this text.\n",
    "\n",
    "A **WHERE** clause can limit your results to rows with certain text using the **LIKE** feature. For example, to select just the third row of the `pets` table from the tutorial, we could use the query in the picture below.\n",
    "\n",
    "![](https://i.imgur.com/RccsXBr.png) \n",
    "\n",
    "You can also use `%` as a \"wildcard\" for any number of characters. So you can also get the third row with:\n",
    "\n",
    "```\n",
    "query = \"\"\"\n",
    "        SELECT * \n",
    "        FROM `bigquery-public-data.pet_records.pets` \n",
    "        WHERE Name LIKE '%ipl%'\n",
    "        \"\"\"\n",
    "```\n",
    "\n",
    "Try this yourself. Write a query that selects the `id`, `title` and `owner_user_id` columns from the `posts_questions` table. \n",
    "- Restrict the results to rows that contain the word \"bigquery\" in the `tags` column. \n",
    "- Include rows where there is other text in addition to the word \"bigquery\" (e.g., if a row has a tag \"bigquery-sql\", your results should include that too)."
   ]
  },
  {
   "cell_type": "code",
   "execution_count": 8,
   "id": "2e9655f4",
   "metadata": {
    "execution": {
     "iopub.execute_input": "2022-02-23T16:35:19.461919Z",
     "iopub.status.busy": "2022-02-23T16:35:19.461269Z",
     "iopub.status.idle": "2022-02-23T16:35:22.254026Z",
     "shell.execute_reply": "2022-02-23T16:35:22.253496Z",
     "shell.execute_reply.started": "2022-02-23T15:42:21.832211Z"
    },
    "papermill": {
     "duration": 2.826892,
     "end_time": "2022-02-23T16:35:22.254144",
     "exception": false,
     "start_time": "2022-02-23T16:35:19.427252",
     "status": "completed"
    },
    "tags": []
   },
   "outputs": [
    {
     "name": "stderr",
     "output_type": "stream",
     "text": [
      "/opt/conda/lib/python3.7/site-packages/google/cloud/bigquery/client.py:440: UserWarning: Cannot create BigQuery Storage client, the dependency google-cloud-bigquery-storage is not installed.\n",
      "  \"Cannot create BigQuery Storage client, the dependency \"\n"
     ]
    },
    {
     "name": "stdout",
     "output_type": "stream",
     "text": [
      "         id                                              title  owner_user_id\n",
      "0  23296258          BigQuery RANK() in Having or Where Clause       836267.0\n",
      "1  23272172                       Streaming data into bigquery      3569267.0\n",
      "2  23396150                 Bigquery pricing/customer support?      2344323.0\n",
      "3  23160240  \"Error: Unexpected, Please Try Again\" with Goo...      1483263.0\n",
      "4  23080974            Using \"SELECT IF\" winth another dataset      3535384.0\n"
     ]
    },
    {
     "data": {
      "application/javascript": [
       "parent.postMessage({\"jupyterEvent\": \"custom.exercise_interaction\", \"data\": {\"outcomeType\": 1, \"valueTowardsCompletion\": 0.16666666666666666, \"interactionType\": 1, \"questionType\": 2, \"questionId\": \"3_SelectRightQuestions\", \"learnToolsVersion\": \"0.3.4\", \"failureMessage\": \"\", \"exceptionClass\": \"\", \"trace\": \"\"}}, \"*\")"
      ],
      "text/plain": [
       "<IPython.core.display.Javascript object>"
      ]
     },
     "metadata": {},
     "output_type": "display_data"
    },
    {
     "data": {
      "text/markdown": [
       "<span style=\"color:#33cc33\">Correct</span>"
      ],
      "text/plain": [
       "Correct"
      ]
     },
     "metadata": {},
     "output_type": "display_data"
    }
   ],
   "source": [
    "# Your code here\n",
    "questions_query = \"\"\"\n",
    "                  SELECT id, title, owner_user_id\n",
    "                  FROM `bigquery-public-data.stackoverflow.posts_questions`\n",
    "                  WHERE tags LIKE '%bigquery%'\n",
    "                  \"\"\"\n",
    "\n",
    "# Set up the query (cancel the query if it would use too much of \n",
    "# your quota, with the limit set to 1 GB)\n",
    "safe_config = bigquery.QueryJobConfig(maximum_bytes_billed=10**10)\n",
    "questions_query_job = client.query(questions_query, job_config=safe_config) # Your code goes here\n",
    "\n",
    "# API request - run the query, and return a pandas DataFrame\n",
    "questions_results = questions_query_job.to_dataframe() # Your code goes here\n",
    "\n",
    "# Preview results\n",
    "print(questions_results.head())\n",
    "\n",
    "# Check your answer\n",
    "q_3.check()"
   ]
  },
  {
   "cell_type": "markdown",
   "id": "89246f5f",
   "metadata": {
    "papermill": {
     "duration": 0.028202,
     "end_time": "2022-02-23T16:35:22.310315",
     "exception": false,
     "start_time": "2022-02-23T16:35:22.282113",
     "status": "completed"
    },
    "tags": []
   },
   "source": [
    "For a hint or the solution, uncomment the appropriate line below."
   ]
  },
  {
   "cell_type": "code",
   "execution_count": 9,
   "id": "cacb1622",
   "metadata": {
    "execution": {
     "iopub.execute_input": "2022-02-23T16:35:22.370790Z",
     "iopub.status.busy": "2022-02-23T16:35:22.370092Z",
     "iopub.status.idle": "2022-02-23T16:35:22.372432Z",
     "shell.execute_reply": "2022-02-23T16:35:22.371959Z"
    },
    "papermill": {
     "duration": 0.03438,
     "end_time": "2022-02-23T16:35:22.372562",
     "exception": false,
     "start_time": "2022-02-23T16:35:22.338182",
     "status": "completed"
    },
    "tags": []
   },
   "outputs": [],
   "source": [
    "#q_3.hint()\n",
    "#q_3.solution()"
   ]
  },
  {
   "cell_type": "markdown",
   "id": "d294297a",
   "metadata": {
    "papermill": {
     "duration": 0.028259,
     "end_time": "2022-02-23T16:35:22.429193",
     "exception": false,
     "start_time": "2022-02-23T16:35:22.400934",
     "status": "completed"
    },
    "tags": []
   },
   "source": [
    "### 4) Your first join\n",
    "Now that you have a query to select questions on any given topic (in this case, you chose \"bigquery\"), you can find the answers to those questions with a **JOIN**.  \n",
    "\n",
    "Write a query that returns the `id`, `body` and `owner_user_id` columns from the `posts_answers` table for answers to \"bigquery\"-related questions. \n",
    "- You should have one row in your results for each answer to a question that has \"bigquery\" in the tags.  \n",
    "- Remember you can get the tags for a question from the `tags` column in the `posts_questions` table.\n",
    "\n",
    "Here's a reminder of what a **JOIN** looked like in the tutorial:\n",
    "```\n",
    "query = \"\"\"\n",
    "        SELECT p.Name AS Pet_Name, o.Name AS Owner_Name\n",
    "        FROM `bigquery-public-data.pet_records.pets` as p\n",
    "        INNER JOIN `bigquery-public-data.pet_records.owners` as o \n",
    "            ON p.ID = o.Pet_ID\n",
    "        \"\"\"\n",
    "```\n",
    "\n",
    "It may be useful to scroll up and review the first several rows of the `posts_answers` and `posts_questions` tables.  "
   ]
  },
  {
   "cell_type": "code",
   "execution_count": 10,
   "id": "c66d11ea",
   "metadata": {
    "execution": {
     "iopub.execute_input": "2022-02-23T16:35:22.497171Z",
     "iopub.status.busy": "2022-02-23T16:35:22.495748Z",
     "iopub.status.idle": "2022-02-23T16:35:35.006661Z",
     "shell.execute_reply": "2022-02-23T16:35:35.006217Z",
     "shell.execute_reply.started": "2022-02-23T16:09:34.223948Z"
    },
    "papermill": {
     "duration": 12.548967,
     "end_time": "2022-02-23T16:35:35.006781",
     "exception": false,
     "start_time": "2022-02-23T16:35:22.457814",
     "status": "completed"
    },
    "tags": []
   },
   "outputs": [
    {
     "name": "stderr",
     "output_type": "stream",
     "text": [
      "/opt/conda/lib/python3.7/site-packages/google/cloud/bigquery/client.py:440: UserWarning: Cannot create BigQuery Storage client, the dependency google-cloud-bigquery-storage is not installed.\n",
      "  \"Cannot create BigQuery Storage client, the dependency \"\n"
     ]
    },
    {
     "name": "stdout",
     "output_type": "stream",
     "text": [
      "         id                                               body  owner_user_id\n",
      "0  37258368  <p>A recent change made loads of JSON data cas...      5071793.0\n",
      "1  37283570  <p>Thanks for the report!  We will be adding s...      5265394.0\n",
      "2  37338320  <p>You can try to apply for a higher quota in ...      5996134.0\n",
      "3  37390621  <p>This is not ideal solution. But it seems to...      2881671.0\n",
      "4  37405599  <p>Another possibility raised by a coworker wa...      4637608.0\n"
     ]
    },
    {
     "data": {
      "application/javascript": [
       "parent.postMessage({\"jupyterEvent\": \"custom.exercise_interaction\", \"data\": {\"outcomeType\": 1, \"valueTowardsCompletion\": 0.16666666666666666, \"interactionType\": 1, \"questionType\": 2, \"questionId\": \"4_FirstJoin\", \"learnToolsVersion\": \"0.3.4\", \"failureMessage\": \"\", \"exceptionClass\": \"\", \"trace\": \"\"}}, \"*\")"
      ],
      "text/plain": [
       "<IPython.core.display.Javascript object>"
      ]
     },
     "metadata": {},
     "output_type": "display_data"
    },
    {
     "data": {
      "text/markdown": [
       "<span style=\"color:#33cc33\">Correct</span>"
      ],
      "text/plain": [
       "Correct"
      ]
     },
     "metadata": {},
     "output_type": "display_data"
    }
   ],
   "source": [
    "# Your code here\n",
    "answers_query = \"\"\"\n",
    "                SELECT pa.id, pa.body, pa.owner_user_id\n",
    "                FROM `bigquery-public-data.stackoverflow.posts_answers` as pa\n",
    "                INNER JOIN `bigquery-public-data.stackoverflow.posts_questions` as pq \n",
    "                        ON pa.parent_id = pq.id\n",
    "                WHERE pq.tags LIKE '%bigquery%'\n",
    "                \"\"\"\n",
    "\n",
    "# Set up the query\n",
    "safe_config = bigquery.QueryJobConfig(maximum_bytes_billed=27*10**10)\n",
    "answers_query_job = client.query(answers_query, job_config=safe_config) # Your code goes here\n",
    "\n",
    "# API request - run the query, and return a pandas DataFrame\n",
    "answers_results = answers_query_job.to_dataframe() # Your code goes here\n",
    "\n",
    "# Preview results\n",
    "print(answers_results.head())\n",
    "\n",
    "# Check your answer\n",
    "q_4.check()"
   ]
  },
  {
   "cell_type": "markdown",
   "id": "a2e8c1cf",
   "metadata": {
    "papermill": {
     "duration": 0.028926,
     "end_time": "2022-02-23T16:35:35.065625",
     "exception": false,
     "start_time": "2022-02-23T16:35:35.036699",
     "status": "completed"
    },
    "tags": []
   },
   "source": [
    "For a hint or the solution, uncomment the appropriate line below."
   ]
  },
  {
   "cell_type": "code",
   "execution_count": 11,
   "id": "305e7cc0",
   "metadata": {
    "execution": {
     "iopub.execute_input": "2022-02-23T16:35:35.128659Z",
     "iopub.status.busy": "2022-02-23T16:35:35.127733Z",
     "iopub.status.idle": "2022-02-23T16:35:35.130675Z",
     "shell.execute_reply": "2022-02-23T16:35:35.130172Z",
     "shell.execute_reply.started": "2022-02-23T16:10:08.097231Z"
    },
    "papermill": {
     "duration": 0.036257,
     "end_time": "2022-02-23T16:35:35.130800",
     "exception": false,
     "start_time": "2022-02-23T16:35:35.094543",
     "status": "completed"
    },
    "tags": []
   },
   "outputs": [],
   "source": [
    "#q_4.hint()\n",
    "#q_4.solution()"
   ]
  },
  {
   "cell_type": "markdown",
   "id": "9e46b5d2",
   "metadata": {
    "papermill": {
     "duration": 0.029697,
     "end_time": "2022-02-23T16:35:35.190471",
     "exception": false,
     "start_time": "2022-02-23T16:35:35.160774",
     "status": "completed"
    },
    "tags": []
   },
   "source": [
    "### 5) Answer the question\n",
    "You have the merge you need. But you want a list of users who have answered many questions... which requires more work beyond your previous result.\n",
    "\n",
    "Write a new query that has a single row for each user who answered at least one question with a tag that includes the string \"bigquery\". Your results should have two columns:\n",
    "- `user_id` - contains the `owner_user_id` column from the `posts_answers` table\n",
    "- `number_of_answers` - contains the number of answers the user has written to \"bigquery\"-related questions"
   ]
  },
  {
   "cell_type": "code",
   "execution_count": 12,
   "id": "73e0a0fc",
   "metadata": {
    "execution": {
     "iopub.execute_input": "2022-02-23T16:35:35.260668Z",
     "iopub.status.busy": "2022-02-23T16:35:35.260165Z",
     "iopub.status.idle": "2022-02-23T16:35:36.865835Z",
     "shell.execute_reply": "2022-02-23T16:35:36.864977Z",
     "shell.execute_reply.started": "2022-02-23T16:24:35.024072Z"
    },
    "papermill": {
     "duration": 1.644843,
     "end_time": "2022-02-23T16:35:36.866025",
     "exception": false,
     "start_time": "2022-02-23T16:35:35.221182",
     "status": "completed"
    },
    "tags": []
   },
   "outputs": [
    {
     "name": "stderr",
     "output_type": "stream",
     "text": [
      "/opt/conda/lib/python3.7/site-packages/google/cloud/bigquery/client.py:440: UserWarning: Cannot create BigQuery Storage client, the dependency google-cloud-bigquery-storage is not installed.\n",
      "  \"Cannot create BigQuery Storage client, the dependency \"\n"
     ]
    },
    {
     "name": "stdout",
     "output_type": "stream",
     "text": [
      "     user_id  number_of_answers\n",
      "0  5221944.0               4497\n",
      "1  1144035.0               1636\n",
      "2   132438.0                900\n",
      "3  6253347.0                736\n",
      "4  1366527.0                620\n"
     ]
    },
    {
     "data": {
      "application/javascript": [
       "parent.postMessage({\"jupyterEvent\": \"custom.exercise_interaction\", \"data\": {\"outcomeType\": 1, \"valueTowardsCompletion\": 0.16666666666666666, \"interactionType\": 1, \"questionType\": 2, \"questionId\": \"5_BigQueryExperts\", \"learnToolsVersion\": \"0.3.4\", \"failureMessage\": \"\", \"exceptionClass\": \"\", \"trace\": \"\"}}, \"*\")"
      ],
      "text/plain": [
       "<IPython.core.display.Javascript object>"
      ]
     },
     "metadata": {},
     "output_type": "display_data"
    },
    {
     "data": {
      "text/markdown": [
       "<span style=\"color:#33cc33\">Correct</span>"
      ],
      "text/plain": [
       "Correct"
      ]
     },
     "metadata": {},
     "output_type": "display_data"
    }
   ],
   "source": [
    "# Your code here\n",
    "bigquery_experts_query = \"\"\"\n",
    "                         SELECT pa.owner_user_id AS user_id, COUNT(1) AS number_of_answers\n",
    "                         FROM `bigquery-public-data.stackoverflow.posts_answers` as pa\n",
    "                               INNER JOIN `bigquery-public-data.stackoverflow.posts_questions` as pq \n",
    "                         ON pa.parent_id = pq.id\n",
    "                         WHERE pq.tags LIKE '%bigquery%'\n",
    "                         GROUP BY user_id\n",
    "                         ORDER BY COUNT(1) DESC\n",
    "                         \"\"\"\n",
    "\n",
    "# Set up the query\n",
    "safe_config = bigquery.QueryJobConfig(maximum_bytes_billed=10**10)\n",
    "bigquery_experts_query_job = client.query(bigquery_experts_query, job_config=safe_config) # Your code goes here\n",
    "\n",
    "# API request - run the query, and return a pandas DataFrame\n",
    "bigquery_experts_results = bigquery_experts_query_job.to_dataframe() # Your code goes here\n",
    "\n",
    "# Preview results\n",
    "print(bigquery_experts_results.head())\n",
    "\n",
    "# Check your answer\n",
    "q_5.check()"
   ]
  },
  {
   "cell_type": "markdown",
   "id": "72ab7b8f",
   "metadata": {
    "papermill": {
     "duration": 0.046345,
     "end_time": "2022-02-23T16:35:36.959949",
     "exception": false,
     "start_time": "2022-02-23T16:35:36.913604",
     "status": "completed"
    },
    "tags": []
   },
   "source": [
    "For a hint or the solution, uncomment the appropriate line below."
   ]
  },
  {
   "cell_type": "code",
   "execution_count": 13,
   "id": "e08ec681",
   "metadata": {
    "execution": {
     "iopub.execute_input": "2022-02-23T16:35:37.061778Z",
     "iopub.status.busy": "2022-02-23T16:35:37.061265Z",
     "iopub.status.idle": "2022-02-23T16:35:37.064980Z",
     "shell.execute_reply": "2022-02-23T16:35:37.064368Z",
     "shell.execute_reply.started": "2022-02-23T16:25:34.716123Z"
    },
    "papermill": {
     "duration": 0.056667,
     "end_time": "2022-02-23T16:35:37.065162",
     "exception": false,
     "start_time": "2022-02-23T16:35:37.008495",
     "status": "completed"
    },
    "tags": []
   },
   "outputs": [],
   "source": [
    "#q_5.hint()\n",
    "#q_5.solution()"
   ]
  },
  {
   "cell_type": "markdown",
   "id": "476a1f85",
   "metadata": {
    "papermill": {
     "duration": 0.031176,
     "end_time": "2022-02-23T16:35:37.129425",
     "exception": false,
     "start_time": "2022-02-23T16:35:37.098249",
     "status": "completed"
    },
    "tags": []
   },
   "source": [
    "### 6) Building a more generally useful service\n",
    "\n",
    "How could you convert what you've done to a general function a website could call on the backend to get experts on any topic?  \n",
    "\n",
    "Think about it and then check the solution below."
   ]
  },
  {
   "cell_type": "code",
   "execution_count": 14,
   "id": "8282d4a8",
   "metadata": {
    "execution": {
     "iopub.execute_input": "2022-02-23T16:35:37.200468Z",
     "iopub.status.busy": "2022-02-23T16:35:37.199947Z",
     "iopub.status.idle": "2022-02-23T16:35:44.329581Z",
     "shell.execute_reply": "2022-02-23T16:35:44.328980Z",
     "shell.execute_reply.started": "2022-02-23T16:34:04.604701Z"
    },
    "papermill": {
     "duration": 7.168888,
     "end_time": "2022-02-23T16:35:44.329713",
     "exception": false,
     "start_time": "2022-02-23T16:35:37.160825",
     "status": "completed"
    },
    "tags": []
   },
   "outputs": [
    {
     "name": "stderr",
     "output_type": "stream",
     "text": [
      "/opt/conda/lib/python3.7/site-packages/google/cloud/bigquery/client.py:440: UserWarning: Cannot create BigQuery Storage client, the dependency google-cloud-bigquery-storage is not installed.\n",
      "  \"Cannot create BigQuery Storage client, the dependency \"\n"
     ]
    },
    {
     "data": {
      "text/html": [
       "<div>\n",
       "<style scoped>\n",
       "    .dataframe tbody tr th:only-of-type {\n",
       "        vertical-align: middle;\n",
       "    }\n",
       "\n",
       "    .dataframe tbody tr th {\n",
       "        vertical-align: top;\n",
       "    }\n",
       "\n",
       "    .dataframe thead th {\n",
       "        text-align: right;\n",
       "    }\n",
       "</style>\n",
       "<table border=\"1\" class=\"dataframe\">\n",
       "  <thead>\n",
       "    <tr style=\"text-align: right;\">\n",
       "      <th></th>\n",
       "      <th>user_id</th>\n",
       "      <th>number_of_answers</th>\n",
       "    </tr>\n",
       "  </thead>\n",
       "  <tbody>\n",
       "    <tr>\n",
       "      <th>0</th>\n",
       "      <td>NaN</td>\n",
       "      <td>20096</td>\n",
       "    </tr>\n",
       "    <tr>\n",
       "      <th>1</th>\n",
       "      <td>65863.0</td>\n",
       "      <td>7397</td>\n",
       "    </tr>\n",
       "    <tr>\n",
       "      <th>2</th>\n",
       "      <td>440558.0</td>\n",
       "      <td>6199</td>\n",
       "    </tr>\n",
       "  </tbody>\n",
       "</table>\n",
       "</div>"
      ],
      "text/plain": [
       "    user_id  number_of_answers\n",
       "0       NaN              20096\n",
       "1   65863.0               7397\n",
       "2  440558.0               6199"
      ]
     },
     "execution_count": 14,
     "metadata": {},
     "output_type": "execute_result"
    }
   ],
   "source": [
    "def expert_finder(topic, client, top=5):\n",
    "    my_query =          f\"\"\"\n",
    "                         SELECT pa.owner_user_id AS user_id, COUNT(1) AS number_of_answers\n",
    "                         FROM `bigquery-public-data.stackoverflow.posts_answers` as pa\n",
    "                               INNER JOIN `bigquery-public-data.stackoverflow.posts_questions` as pq \n",
    "                         ON pa.parent_id = pq.id\n",
    "                         WHERE pq.tags LIKE '%{topic}%'\n",
    "                         GROUP BY user_id\n",
    "                         ORDER BY COUNT(1) DESC\n",
    "                         \"\"\"\n",
    "    safe_config = bigquery.QueryJobConfig(maximum_bytes_billed=10**10)      \n",
    "    my_query_job = client.query(my_query, job_config=safe_config)\n",
    "    results = my_query_job.to_dataframe()\n",
    "\n",
    "    return results.head(top)\n",
    "\n",
    "expert_finder('c++', client, 3)"
   ]
  },
  {
   "cell_type": "code",
   "execution_count": 15,
   "id": "f56e8766",
   "metadata": {
    "execution": {
     "iopub.execute_input": "2022-02-23T16:35:44.432525Z",
     "iopub.status.busy": "2022-02-23T16:35:44.431773Z",
     "iopub.status.idle": "2022-02-23T16:35:44.436398Z",
     "shell.execute_reply": "2022-02-23T16:35:44.435748Z",
     "shell.execute_reply.started": "2022-02-23T16:26:03.632811Z"
    },
    "papermill": {
     "duration": 0.05789,
     "end_time": "2022-02-23T16:35:44.436530",
     "exception": false,
     "start_time": "2022-02-23T16:35:44.378640",
     "status": "completed"
    },
    "tags": []
   },
   "outputs": [
    {
     "data": {
      "application/javascript": [
       "parent.postMessage({\"jupyterEvent\": \"custom.exercise_interaction\", \"data\": {\"interactionType\": 3, \"questionType\": 4, \"questionId\": \"6_GeneralizeExpertFinder\", \"learnToolsVersion\": \"0.3.4\", \"valueTowardsCompletion\": 0.0, \"failureMessage\": \"\", \"exceptionClass\": \"\", \"trace\": \"\", \"outcomeType\": 4}}, \"*\")"
      ],
      "text/plain": [
       "<IPython.core.display.Javascript object>"
      ]
     },
     "metadata": {},
     "output_type": "display_data"
    },
    {
     "data": {
      "text/markdown": [
       "<span style=\"color:#33cc99\">Solution:</span> \n",
       "```python\n",
       "\n",
       "def expert_finder(topic, client):\n",
       "    '''\n",
       "    Returns a DataFrame with the user IDs who have written Stack Overflow answers on a topic.\n",
       "\n",
       "    Inputs:\n",
       "        topic: A string with the topic of interest\n",
       "        client: A Client object that specifies the connection to the Stack Overflow dataset\n",
       "\n",
       "    Outputs:\n",
       "        results: A DataFrame with columns for user_id and number_of_answers. Follows similar logic to bigquery_experts_results shown above.\n",
       "    '''\n",
       "    my_query = \"\"\"\n",
       "               SELECT a.owner_user_id AS user_id, COUNT(1) AS number_of_answers\n",
       "               FROM `bigquery-public-data.stackoverflow.posts_questions` AS q\n",
       "               INNER JOIN `bigquery-public-data.stackoverflow.posts_answers` AS a\n",
       "                   ON q.id = a.parent_Id\n",
       "               WHERE q.tags like '%{topic}%'\n",
       "               GROUP BY a.owner_user_id\n",
       "               \"\"\"\n",
       "               \n",
       "    # Set up the query (a real service would have good error handling for \n",
       "    # queries that scan too much data)\n",
       "    safe_config = bigquery.QueryJobConfig(maximum_bytes_billed=10**10)      \n",
       "    my_query_job = client.query(my_query, job_config=safe_config)\n",
       "    \n",
       "    # API request - run the query, and return a pandas DataFrame\n",
       "    results = my_query_job.to_dataframe()\n",
       "\n",
       "    return results\n",
       "\n",
       "```"
      ],
      "text/plain": [
       "Solution: \n",
       "```python\n",
       "\n",
       "def expert_finder(topic, client):\n",
       "    '''\n",
       "    Returns a DataFrame with the user IDs who have written Stack Overflow answers on a topic.\n",
       "\n",
       "    Inputs:\n",
       "        topic: A string with the topic of interest\n",
       "        client: A Client object that specifies the connection to the Stack Overflow dataset\n",
       "\n",
       "    Outputs:\n",
       "        results: A DataFrame with columns for user_id and number_of_answers. Follows similar logic to bigquery_experts_results shown above.\n",
       "    '''\n",
       "    my_query = \"\"\"\n",
       "               SELECT a.owner_user_id AS user_id, COUNT(1) AS number_of_answers\n",
       "               FROM `bigquery-public-data.stackoverflow.posts_questions` AS q\n",
       "               INNER JOIN `bigquery-public-data.stackoverflow.posts_answers` AS a\n",
       "                   ON q.id = a.parent_Id\n",
       "               WHERE q.tags like '%{topic}%'\n",
       "               GROUP BY a.owner_user_id\n",
       "               \"\"\"\n",
       "               \n",
       "    # Set up the query (a real service would have good error handling for \n",
       "    # queries that scan too much data)\n",
       "    safe_config = bigquery.QueryJobConfig(maximum_bytes_billed=10**10)      \n",
       "    my_query_job = client.query(my_query, job_config=safe_config)\n",
       "    \n",
       "    # API request - run the query, and return a pandas DataFrame\n",
       "    results = my_query_job.to_dataframe()\n",
       "\n",
       "    return results\n",
       "\n",
       "```"
      ]
     },
     "metadata": {},
     "output_type": "display_data"
    }
   ],
   "source": [
    "# Check your answer (Run this code cell to receive credit!)\n",
    "q_6.solution()"
   ]
  },
  {
   "cell_type": "markdown",
   "id": "67b91333",
   "metadata": {
    "papermill": {
     "duration": 0.049458,
     "end_time": "2022-02-23T16:35:44.537044",
     "exception": false,
     "start_time": "2022-02-23T16:35:44.487586",
     "status": "completed"
    },
    "tags": []
   },
   "source": [
    "# Congratulations!\n",
    "\n",
    "You know all the key components to use BigQuery and SQL effectively. Your SQL skills are sufficient to unlock many of the world's largest datasets.\n",
    "\n",
    "Want to go play with your new powers?  Kaggle has BigQuery datasets available [here](https://www.kaggle.com/datasets?fileType=bigQuery)."
   ]
  },
  {
   "cell_type": "markdown",
   "id": "eb83d502",
   "metadata": {
    "papermill": {
     "duration": 0.050602,
     "end_time": "2022-02-23T16:35:44.637877",
     "exception": false,
     "start_time": "2022-02-23T16:35:44.587275",
     "status": "completed"
    },
    "tags": []
   },
   "source": [
    "---\n",
    "\n",
    "\n",
    "\n",
    "\n",
    "*Have questions or comments? Visit the [course discussion forum](https://www.kaggle.com/learn/intro-to-sql/discussion) to chat with other learners.*"
   ]
  }
 ],
 "metadata": {
  "kernelspec": {
   "display_name": "Python 3",
   "language": "python",
   "name": "python3"
  },
  "language_info": {
   "codemirror_mode": {
    "name": "ipython",
    "version": 3
   },
   "file_extension": ".py",
   "mimetype": "text/x-python",
   "name": "python",
   "nbconvert_exporter": "python",
   "pygments_lexer": "ipython3",
   "version": "3.7.12"
  },
  "papermill": {
   "default_parameters": {},
   "duration": 55.748018,
   "end_time": "2022-02-23T16:35:45.400107",
   "environment_variables": {},
   "exception": null,
   "input_path": "__notebook__.ipynb",
   "output_path": "__notebook__.ipynb",
   "parameters": {},
   "start_time": "2022-02-23T16:34:49.652089",
   "version": "2.3.3"
  }
 },
 "nbformat": 4,
 "nbformat_minor": 5
}
