{
 "cells": [
  {
   "cell_type": "markdown",
   "id": "f5880b95",
   "metadata": {
    "papermill": {
     "duration": 0.016895,
     "end_time": "2022-02-28T22:39:46.281364",
     "exception": false,
     "start_time": "2022-02-28T22:39:46.264469",
     "status": "completed"
    },
    "tags": []
   },
   "source": [
    "**This notebook is an exercise in the [Intro to Game AI and Reinforcement Learning](https://www.kaggle.com/learn/intro-to-game-ai-and-reinforcement-learning) course.  You can reference the tutorial at [this link](https://www.kaggle.com/alexisbcook/one-step-lookahead).**\n",
    "\n",
    "---\n"
   ]
  },
  {
   "cell_type": "markdown",
   "id": "1601f27f",
   "metadata": {
    "papermill": {
     "duration": 0.013878,
     "end_time": "2022-02-28T22:39:46.312307",
     "exception": false,
     "start_time": "2022-02-28T22:39:46.298429",
     "status": "completed"
    },
    "tags": []
   },
   "source": [
    "# Introduction\n",
    "\n",
    "In the tutorial, you learned how to define a simple heuristic that the agent used to select moves.  In this exercise, you'll check your understanding and make the heuristic more complex.\n",
    "\n",
    "To get started, run the code cell below to set up our feedback system."
   ]
  },
  {
   "cell_type": "code",
   "execution_count": 1,
   "id": "a30332bd",
   "metadata": {
    "execution": {
     "iopub.execute_input": "2022-02-28T22:39:46.345921Z",
     "iopub.status.busy": "2022-02-28T22:39:46.344643Z",
     "iopub.status.idle": "2022-02-28T22:39:46.472940Z",
     "shell.execute_reply": "2022-02-28T22:39:46.472155Z",
     "shell.execute_reply.started": "2022-02-28T22:25:56.087268Z"
    },
    "papermill": {
     "duration": 0.146754,
     "end_time": "2022-02-28T22:39:46.473173",
     "exception": false,
     "start_time": "2022-02-28T22:39:46.326419",
     "status": "completed"
    },
    "tags": []
   },
   "outputs": [
    {
     "name": "stdout",
     "output_type": "stream",
     "text": [
      "Loading environment football failed: No module named 'gfootball'\n"
     ]
    }
   ],
   "source": [
    "from learntools.core import binder\n",
    "binder.bind(globals())\n",
    "from learntools.game_ai.ex2 import *"
   ]
  },
  {
   "cell_type": "markdown",
   "id": "0e3e826b",
   "metadata": {
    "papermill": {
     "duration": 0.014418,
     "end_time": "2022-02-28T22:39:46.504133",
     "exception": false,
     "start_time": "2022-02-28T22:39:46.489715",
     "status": "completed"
    },
    "tags": []
   },
   "source": [
    "### 1) A more complex heuristic\n",
    "\n",
    "The heuristic from the tutorial looks at all groups of four adjacent grid locations on the same row, column, or diagonal and assigns points for each occurrence of the following patterns:\n",
    "\n",
    "<center>\n",
    "<img src=\"https://i.imgur.com/vzQa4ML.png\" width=60%><br/>\n",
    "</center>\n",
    "\n",
    "In the image above, we assume that the agent is the red player, and the opponent plays yellow discs.\n",
    "\n",
    "For reference, here is the `get_heuristic()` function from the tutorial:\n",
    "```python\n",
    "def get_heuristic(grid, mark, config):\n",
    "    num_threes = count_windows(grid, 3, mark, config)\n",
    "    num_fours = count_windows(grid, 4, mark, config)\n",
    "    num_threes_opp = count_windows(grid, 3, mark%2+1, config)\n",
    "    score = num_threes - 1e2*num_threes_opp + 1e6*num_fours\n",
    "    return score\n",
    "```\n",
    "\n",
    "In the `get_heuristic()` function, `num_fours`, `num_threes`, and `num_threes_opp` are the number of windows in the game grid that are assigned 1000000, 1, and -100 point(s), respectively. \n",
    "    \n",
    "In this tutorial, you'll change the heuristic to the following (where you decide the number of points to apply in each of `A`, `B`, `C`, `D`, and `E`).  You will define these values in the code cell below.\n",
    "\n",
    "<center>\n",
    "<img src=\"https://i.imgur.com/FBoWr2f.png\" width=80%><br/>\n",
    "</center>\n",
    "    \n",
    "\n",
    "To check your answer, we use your values to create a heuristic function as follows:\n",
    "\n",
    "```python\n",
    "def get_heuristic_q1(grid, col, mark, config):\n",
    "    num_twos = count_windows(grid, 2, mark, config)\n",
    "    num_threes = count_windows(grid, 3, mark, config)\n",
    "    num_fours = count_windows(grid, 4, mark, config)\n",
    "    num_twos_opp = count_windows(grid, 2, mark%2+1, config)\n",
    "    num_threes_opp = count_windows(grid, 3, mark%2+1, config)\n",
    "    score = A*num_fours + B*num_threes + C*num_twos + D*num_twos_opp + E*num_threes_opp\n",
    "    return score\n",
    "```\n",
    "\n",
    "This heuristic is then used to create an agent, that competes against the agent from the tutorial in 50 different game rounds.  In order to be marked correct, \n",
    "- your agent must win at least half of the games, and\n",
    "- `C` and `D` must both be nonzero."
   ]
  },
  {
   "cell_type": "code",
   "execution_count": 2,
   "id": "c761d5d1",
   "metadata": {
    "execution": {
     "iopub.execute_input": "2022-02-28T22:39:46.538340Z",
     "iopub.status.busy": "2022-02-28T22:39:46.537167Z",
     "iopub.status.idle": "2022-02-28T22:40:06.490326Z",
     "shell.execute_reply": "2022-02-28T22:40:06.489467Z",
     "shell.execute_reply.started": "2022-02-28T22:28:05.652342Z"
    },
    "papermill": {
     "duration": 19.971643,
     "end_time": "2022-02-28T22:40:06.490506",
     "exception": false,
     "start_time": "2022-02-28T22:39:46.518863",
     "status": "completed"
    },
    "tags": []
   },
   "outputs": [
    {
     "name": "stdout",
     "output_type": "stream",
     "text": [
      "Your Agent's Win Percentage (in 50 game rounds): 0.58\n",
      "Tutorial Agent's Win Percentage (in 50 game rounds): 0.42\n"
     ]
    },
    {
     "data": {
      "application/javascript": [
       "parent.postMessage({\"jupyterEvent\": \"custom.exercise_interaction\", \"data\": {\"outcomeType\": 1, \"valueTowardsCompletion\": 0.3333333333333333, \"interactionType\": 1, \"questionType\": 2, \"questionId\": \"1_BetterHeuristic\", \"learnToolsVersion\": \"0.3.4\", \"failureMessage\": \"\", \"exceptionClass\": \"\", \"trace\": \"\"}}, \"*\")"
      ],
      "text/plain": [
       "<IPython.core.display.Javascript object>"
      ]
     },
     "metadata": {},
     "output_type": "display_data"
    },
    {
     "data": {
      "text/markdown": [
       "<span style=\"color:#33cc33\">Correct</span>"
      ],
      "text/plain": [
       "Correct"
      ]
     },
     "metadata": {},
     "output_type": "display_data"
    }
   ],
   "source": [
    "# TODO: Assign your values here\n",
    "A = 1e6\n",
    "B = 1e4\n",
    "C = 1e2\n",
    "D = -1\n",
    "E = -1e6\n",
    "\n",
    "# Check your answer (this will take a few seconds to run!)\n",
    "q_1.check()"
   ]
  },
  {
   "cell_type": "code",
   "execution_count": 3,
   "id": "fcadee59",
   "metadata": {
    "execution": {
     "iopub.execute_input": "2022-02-28T22:40:06.527916Z",
     "iopub.status.busy": "2022-02-28T22:40:06.527159Z",
     "iopub.status.idle": "2022-02-28T22:40:06.536775Z",
     "shell.execute_reply": "2022-02-28T22:40:06.537342Z",
     "shell.execute_reply.started": "2022-02-28T22:27:40.553186Z"
    },
    "papermill": {
     "duration": 0.030231,
     "end_time": "2022-02-28T22:40:06.537543",
     "exception": false,
     "start_time": "2022-02-28T22:40:06.507312",
     "status": "completed"
    },
    "tags": []
   },
   "outputs": [
    {
     "data": {
      "application/javascript": [
       "parent.postMessage({\"jupyterEvent\": \"custom.exercise_interaction\", \"data\": {\"interactionType\": 2, \"questionType\": 2, \"questionId\": \"1_BetterHeuristic\", \"learnToolsVersion\": \"0.3.4\", \"valueTowardsCompletion\": 0.0, \"failureMessage\": \"\", \"exceptionClass\": \"\", \"trace\": \"\", \"outcomeType\": 4}}, \"*\")"
      ],
      "text/plain": [
       "<IPython.core.display.Javascript object>"
      ]
     },
     "metadata": {},
     "output_type": "display_data"
    },
    {
     "data": {
      "text/markdown": [
       "<span style=\"color:#3366cc\">Hint:</span> Use the agent from the tutorial as a starting point     (`A = 1e6`, `B = 1`, `C = 0`, `D = 0`, `E = -1e2`)."
      ],
      "text/plain": [
       "Hint: Use the agent from the tutorial as a starting point     (`A = 1e6`, `B = 1`, `C = 0`, `D = 0`, `E = -1e2`)."
      ]
     },
     "metadata": {},
     "output_type": "display_data"
    },
    {
     "data": {
      "application/javascript": [
       "parent.postMessage({\"jupyterEvent\": \"custom.exercise_interaction\", \"data\": {\"interactionType\": 3, \"questionType\": 2, \"questionId\": \"1_BetterHeuristic\", \"learnToolsVersion\": \"0.3.4\", \"valueTowardsCompletion\": 0.0, \"failureMessage\": \"\", \"exceptionClass\": \"\", \"trace\": \"\", \"outcomeType\": 4}}, \"*\")"
      ],
      "text/plain": [
       "<IPython.core.display.Javascript object>"
      ]
     },
     "metadata": {},
     "output_type": "display_data"
    },
    {
     "data": {
      "text/markdown": [
       "<span style=\"color:#33cc99\">Solution:</span> \n",
       "```python\n",
       "# There are many values that can work, but here is one solution\n",
       "A = 1e10\n",
       "B = 1e4\n",
       "C = 1e2\n",
       "D = -1\n",
       "E = -1e6\n",
       "\n",
       "```"
      ],
      "text/plain": [
       "Solution: \n",
       "```python\n",
       "# There are many values that can work, but here is one solution\n",
       "A = 1e10\n",
       "B = 1e4\n",
       "C = 1e2\n",
       "D = -1\n",
       "E = -1e6\n",
       "\n",
       "```"
      ]
     },
     "metadata": {},
     "output_type": "display_data"
    }
   ],
   "source": [
    "# Lines below will give you a hint or solution code\n",
    "q_1.hint()\n",
    "q_1.solution()"
   ]
  },
  {
   "cell_type": "markdown",
   "id": "310fb420",
   "metadata": {
    "papermill": {
     "duration": 0.019426,
     "end_time": "2022-02-28T22:40:06.576552",
     "exception": false,
     "start_time": "2022-02-28T22:40:06.557126",
     "status": "completed"
    },
    "tags": []
   },
   "source": [
    "### 2) Does the agent win?\n",
    "\n",
    "Consider the game board below.  \n",
    "\n",
    "<center>\n",
    "<img src=\"https://i.imgur.com/AlnaQ3J.png\" width=30%><br/>\n",
    "</center>\n",
    "\n",
    "Say the agent uses red discs, and it's the agent's turn.  \n",
    "- If the agent uses the heuristic **_from the tutorial_**, does it win or lose the game?\n",
    "- If the agent uses the heuristic **_that you just implemented_**, does it win or lose the game?"
   ]
  },
  {
   "cell_type": "code",
   "execution_count": 4,
   "id": "24071f0d",
   "metadata": {
    "execution": {
     "iopub.execute_input": "2022-02-28T22:40:06.620577Z",
     "iopub.status.busy": "2022-02-28T22:40:06.619525Z",
     "iopub.status.idle": "2022-02-28T22:40:06.622975Z",
     "shell.execute_reply": "2022-02-28T22:40:06.623588Z"
    },
    "papermill": {
     "duration": 0.026614,
     "end_time": "2022-02-28T22:40:06.623803",
     "exception": false,
     "start_time": "2022-02-28T22:40:06.597189",
     "status": "completed"
    },
    "tags": []
   },
   "outputs": [],
   "source": [
    "#q_2.hint()"
   ]
  },
  {
   "cell_type": "code",
   "execution_count": 5,
   "id": "4f1f66fe",
   "metadata": {
    "execution": {
     "iopub.execute_input": "2022-02-28T22:40:06.670303Z",
     "iopub.status.busy": "2022-02-28T22:40:06.669536Z",
     "iopub.status.idle": "2022-02-28T22:40:06.676099Z",
     "shell.execute_reply": "2022-02-28T22:40:06.676660Z",
     "shell.execute_reply.started": "2022-02-28T22:35:08.908711Z"
    },
    "papermill": {
     "duration": 0.033371,
     "end_time": "2022-02-28T22:40:06.676867",
     "exception": false,
     "start_time": "2022-02-28T22:40:06.643496",
     "status": "completed"
    },
    "tags": []
   },
   "outputs": [
    {
     "data": {
      "application/javascript": [
       "parent.postMessage({\"jupyterEvent\": \"custom.exercise_interaction\", \"data\": {\"interactionType\": 3, \"questionType\": 4, \"questionId\": \"2_BothLose\", \"learnToolsVersion\": \"0.3.4\", \"valueTowardsCompletion\": 0.0, \"failureMessage\": \"\", \"exceptionClass\": \"\", \"trace\": \"\", \"outcomeType\": 4}}, \"*\")"
      ],
      "text/plain": [
       "<IPython.core.display.Javascript object>"
      ]
     },
     "metadata": {},
     "output_type": "display_data"
    },
    {
     "data": {
      "text/markdown": [
       "<span style=\"color:#33cc99\">Solution:</span> The agent has two choices: it can play in either column 0 (the leftmost column), or column 6 (the rightmost column). If the agent plays in column 0, it definitely wins the game in its next move.  And, if it plays in column 6, it likely loses the game (since, if the opponent responds by playing in the same column, then the opponent wins the game). \n",
       "\n",
       "If the agent uses the heuristic **from the tutorial**, both columns are scored equally, and so the agent will select from them (uniformly) at random.  In this case, the agent has about a 50/50 chance of winning the game. \n",
       "\n",
       "As for the heuristic **that** **you just implemented**, this will depend on your implementation, so we'll provide an answer for the solution heuristic that we provided -- in this case, the agent most likely loses the game, since it will definitely select the final column. \n",
       "\n",
       "This is an interesting situation, because on average, we see that the agent with the new heuristic performs better than the agent from the tutorial (and yet, for this board, it's guaranteed to make the wrong decision)."
      ],
      "text/plain": [
       "Solution: The agent has two choices: it can play in either column 0 (the leftmost column), or column 6 (the rightmost column). If the agent plays in column 0, it definitely wins the game in its next move.  And, if it plays in column 6, it likely loses the game (since, if the opponent responds by playing in the same column, then the opponent wins the game). \n",
       "\n",
       "If the agent uses the heuristic **from the tutorial**, both columns are scored equally, and so the agent will select from them (uniformly) at random.  In this case, the agent has about a 50/50 chance of winning the game. \n",
       "\n",
       "As for the heuristic **that** **you just implemented**, this will depend on your implementation, so we'll provide an answer for the solution heuristic that we provided -- in this case, the agent most likely loses the game, since it will definitely select the final column. \n",
       "\n",
       "This is an interesting situation, because on average, we see that the agent with the new heuristic performs better than the agent from the tutorial (and yet, for this board, it's guaranteed to make the wrong decision)."
      ]
     },
     "metadata": {},
     "output_type": "display_data"
    }
   ],
   "source": [
    "# Check your answer (Run this code cell to receive credit!)\n",
    "q_2.solution()"
   ]
  },
  {
   "cell_type": "markdown",
   "id": "af32b339",
   "metadata": {
    "papermill": {
     "duration": 0.020449,
     "end_time": "2022-02-28T22:40:06.718784",
     "exception": false,
     "start_time": "2022-02-28T22:40:06.698335",
     "status": "completed"
    },
    "tags": []
   },
   "source": [
    "### 3) Submit to the competition\n",
    "\n",
    "Now, it's time to submit an agent to the competition!  Use the next code cell to define an agent.  (You can see an example of how to write a valid agent in **[this notebook](https://www.kaggle.com/alexisbcook/create-a-connectx-agent)**.)\n",
    "\n",
    "You're encouraged to use what you learned in the first question of this exercise to write an agent.  Use the code from the tutorial as a starting point. "
   ]
  },
  {
   "cell_type": "code",
   "execution_count": 6,
   "id": "919cd123",
   "metadata": {
    "execution": {
     "iopub.execute_input": "2022-02-28T22:40:06.770499Z",
     "iopub.status.busy": "2022-02-28T22:40:06.769719Z",
     "iopub.status.idle": "2022-02-28T22:40:06.773396Z",
     "shell.execute_reply": "2022-02-28T22:40:06.773864Z",
     "shell.execute_reply.started": "2022-02-28T22:39:02.821155Z"
    },
    "papermill": {
     "duration": 0.034741,
     "end_time": "2022-02-28T22:40:06.774088",
     "exception": false,
     "start_time": "2022-02-28T22:40:06.739347",
     "status": "completed"
    },
    "tags": []
   },
   "outputs": [],
   "source": [
    "def my_agent(obs, config):\n",
    "    # Your code here: Amend the agent!\n",
    "    # Get list of valid moves\n",
    "    valid_moves = [c for c in range(config.columns) if obs.board[c] == 0]\n",
    "    # Convert the board to a 2D grid\n",
    "    grid = np.asarray(obs.board).reshape(config.rows, config.columns)\n",
    "    # Use the heuristic to assign a score to each possible board in the next turn\n",
    "    scores = dict(zip(valid_moves, [score_move(grid, col, obs.mark, config) for col in valid_moves]))\n",
    "    # Get a list of columns (moves) that maximize the heuristic\n",
    "    max_cols = [key for key in scores.keys() if scores[key] == max(scores.values())]\n",
    "    # Select at random from the maximizing columns\n",
    "    return random.choice(max_cols)\n",
    "    import random\n",
    "    valid_moves = [col for col in range(config.columns) if obs.board[col] == 0]\n",
    "    return random.choice(valid_moves)"
   ]
  },
  {
   "cell_type": "code",
   "execution_count": 7,
   "id": "b1e38180",
   "metadata": {
    "execution": {
     "iopub.execute_input": "2022-02-28T22:40:06.820901Z",
     "iopub.status.busy": "2022-02-28T22:40:06.819801Z",
     "iopub.status.idle": "2022-02-28T22:40:06.827777Z",
     "shell.execute_reply": "2022-02-28T22:40:06.828434Z",
     "shell.execute_reply.started": "2022-02-28T22:39:07.782147Z"
    },
    "papermill": {
     "duration": 0.033893,
     "end_time": "2022-02-28T22:40:06.828642",
     "exception": false,
     "start_time": "2022-02-28T22:40:06.794749",
     "status": "completed"
    },
    "tags": []
   },
   "outputs": [
    {
     "data": {
      "application/javascript": [
       "parent.postMessage({\"jupyterEvent\": \"custom.exercise_interaction\", \"data\": {\"outcomeType\": 1, \"valueTowardsCompletion\": 0.3333333333333333, \"interactionType\": 1, \"questionType\": 2, \"questionId\": \"3_CreateAgentEx2\", \"learnToolsVersion\": \"0.3.4\", \"failureMessage\": \"\", \"exceptionClass\": \"\", \"trace\": \"\"}}, \"*\")"
      ],
      "text/plain": [
       "<IPython.core.display.Javascript object>"
      ]
     },
     "metadata": {},
     "output_type": "display_data"
    },
    {
     "data": {
      "text/markdown": [
       "<span style=\"color:#33cc33\">Thank you for creating an agent!</span>"
      ],
      "text/plain": [
       "Thank you for creating an agent!"
      ]
     },
     "metadata": {},
     "output_type": "display_data"
    }
   ],
   "source": [
    "# Run this code cell to get credit for creating an agent\n",
    "q_3.check()"
   ]
  },
  {
   "cell_type": "markdown",
   "id": "1728ac33",
   "metadata": {
    "papermill": {
     "duration": 0.021308,
     "end_time": "2022-02-28T22:40:06.873795",
     "exception": false,
     "start_time": "2022-02-28T22:40:06.852487",
     "status": "completed"
    },
    "tags": []
   },
   "source": [
    "Run the next code cell to convert your agent to a submission file."
   ]
  },
  {
   "cell_type": "code",
   "execution_count": 8,
   "id": "a5d52243",
   "metadata": {
    "execution": {
     "iopub.execute_input": "2022-02-28T22:40:06.922448Z",
     "iopub.status.busy": "2022-02-28T22:40:06.921240Z",
     "iopub.status.idle": "2022-02-28T22:40:06.932246Z",
     "shell.execute_reply": "2022-02-28T22:40:06.931516Z",
     "shell.execute_reply.started": "2022-02-28T22:39:12.317644Z"
    },
    "papermill": {
     "duration": 0.036853,
     "end_time": "2022-02-28T22:40:06.932430",
     "exception": false,
     "start_time": "2022-02-28T22:40:06.895577",
     "status": "completed"
    },
    "tags": []
   },
   "outputs": [
    {
     "name": "stdout",
     "output_type": "stream",
     "text": [
      "<function my_agent at 0x7f41df778170> written to submission.py\n"
     ]
    }
   ],
   "source": [
    "import inspect\n",
    "import os\n",
    "\n",
    "def write_agent_to_file(function, file):\n",
    "    with open(file, \"a\" if os.path.exists(file) else \"w\") as f:\n",
    "        f.write(inspect.getsource(function))\n",
    "        print(function, \"written to\", file)\n",
    "\n",
    "write_agent_to_file(my_agent, \"submission.py\")"
   ]
  },
  {
   "cell_type": "markdown",
   "id": "9d9a94ee",
   "metadata": {
    "papermill": {
     "duration": 0.022756,
     "end_time": "2022-02-28T22:40:06.978712",
     "exception": false,
     "start_time": "2022-02-28T22:40:06.955956",
     "status": "completed"
    },
    "tags": []
   },
   "source": [
    "Then, follow these steps to submit your agent to the competition:\n",
    "1. Begin by clicking on the **Save Version** button in the top right corner of the window.  This will generate a pop-up window.  \n",
    "2. Ensure that the **Save and Run All** option is selected, and then click on the **Save** button.\n",
    "3. This generates a window in the bottom left corner of the notebook.  After it has finished running, click on the number to the right of the **Save Version** button.  This pulls up a list of versions on the right of the screen.  Click on the ellipsis **(...)** to the right of the most recent version, and select **Open in Viewer**.  This brings you into view mode of the same page. You will need to scroll down to get back to these instructions.\n",
    "4. Click on the **Output** tab on the right of the screen.  Then, click on the file you would like to submit, and click on the **Submit** button to submit your results to the leaderboard.\n",
    "\n",
    "You have now successfully submitted to the competition!\n",
    "\n",
    "If you want to keep working to improve your performance, select the **Edit** button in the top right of the screen. Then you can change your code and repeat the process. There's a lot of room to improve, and you will climb up the leaderboard as you work.\n",
    "\n",
    "\n",
    "Go to **\"My Submissions\"** to view your score and episodes being played.\n",
    "\n",
    "# Keep going\n",
    "\n",
    "Move on to **[develop a longer-term strategy](https://www.kaggle.com/alexisbcook/n-step-lookahead)** with the minimax algorithm."
   ]
  },
  {
   "cell_type": "markdown",
   "id": "130348a5",
   "metadata": {
    "papermill": {
     "duration": 0.022067,
     "end_time": "2022-02-28T22:40:07.023644",
     "exception": false,
     "start_time": "2022-02-28T22:40:07.001577",
     "status": "completed"
    },
    "tags": []
   },
   "source": [
    "---\n",
    "\n",
    "\n",
    "\n",
    "\n",
    "*Have questions or comments? Visit the [course discussion forum](https://www.kaggle.com/learn/intro-to-game-ai-and-reinforcement-learning/discussion) to chat with other learners.*"
   ]
  }
 ],
 "metadata": {
  "kernelspec": {
   "display_name": "Python 3",
   "language": "python",
   "name": "python3"
  },
  "language_info": {
   "codemirror_mode": {
    "name": "ipython",
    "version": 3
   },
   "file_extension": ".py",
   "mimetype": "text/x-python",
   "name": "python",
   "nbconvert_exporter": "python",
   "pygments_lexer": "ipython3",
   "version": "3.7.12"
  },
  "papermill": {
   "default_parameters": {},
   "duration": 32.860163,
   "end_time": "2022-02-28T22:40:08.061072",
   "environment_variables": {},
   "exception": null,
   "input_path": "__notebook__.ipynb",
   "output_path": "__notebook__.ipynb",
   "parameters": {},
   "start_time": "2022-02-28T22:39:35.200909",
   "version": "2.3.3"
  }
 },
 "nbformat": 4,
 "nbformat_minor": 5
}
